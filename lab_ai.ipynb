{
  "nbformat": 4,
  "nbformat_minor": 0,
  "metadata": {
    "colab": {
      "provenance": [],
      "mount_file_id": "1EQ5Pmwy7kDIy2ctas51aFOLLgeS6SgwT",
      "authorship_tag": "ABX9TyO4ln5kqsuGup8bt/kfpS64",
      "include_colab_link": true
    },
    "kernelspec": {
      "name": "python3",
      "display_name": "Python 3"
    },
    "language_info": {
      "name": "python"
    }
  },
  "cells": [
    {
      "cell_type": "markdown",
      "metadata": {
        "id": "view-in-github",
        "colab_type": "text"
      },
      "source": [
        "<a href=\"https://colab.research.google.com/github/MrP-cpu/AI_Lab/blob/master/lab_ai.ipynb\" target=\"_parent\"><img src=\"https://colab.research.google.com/assets/colab-badge.svg\" alt=\"Open In Colab\"/></a>"
      ]
    },
    {
      "cell_type": "markdown",
      "source": [
        "#Assignment_1"
      ],
      "metadata": {
        "id": "0IiXttTCgsoo"
      }
    },
    {
      "cell_type": "markdown",
      "source": [
        "##Ex1"
      ],
      "metadata": {
        "id": "rhHvBavfgIKJ"
      }
    },
    {
      "cell_type": "code",
      "execution_count": null,
      "metadata": {
        "colab": {
          "base_uri": "https://localhost:8080/"
        },
        "id": "Zb7Ytpf7qqR1",
        "outputId": "b6493b5a-095e-4a7b-b7ae-d849f49e1063"
      },
      "outputs": [
        {
          "output_type": "stream",
          "name": "stdout",
          "text": [
            "o\n"
          ]
        }
      ],
      "source": [
        "#ex1\n",
        "def relu(x):\n",
        "  if x >= 0:\n",
        "    print(x);\n",
        "  else :\n",
        "    print(\"o\")\n",
        "    return\n",
        "\n",
        "#calling the function\n",
        "relu(-3)"
      ]
    },
    {
      "cell_type": "markdown",
      "source": [
        "\n",
        "\n",
        "##Ex2\n",
        "\n"
      ],
      "metadata": {
        "id": "T2OzhUBYgO8w"
      }
    },
    {
      "cell_type": "code",
      "source": [
        "#ex2\n",
        "#euclidean norm\n",
        "from numpy.linalg import norm\n",
        "def euclidean_norm(vector):\n",
        "#square root of the sum of the squares of vector's components\n",
        "  print(\"this is the vector:-\", vector)\n",
        "  norm_vector=norm(vector)\n",
        "  print(\"this is the norm of vector:-\" ,norm_vector)\n",
        "  return\n",
        "\n",
        "import numpy as np\n",
        "my_vector = [0.5, -1.2, 3.3, 4.5]\n",
        "\n",
        "euclidean_norm(my_vector)"
      ],
      "metadata": {
        "colab": {
          "base_uri": "https://localhost:8080/"
        },
        "id": "FhIlPaYRwYay",
        "outputId": "66d2d9a3-f69e-4b3e-bba5-d549a613bd10"
      },
      "execution_count": null,
      "outputs": [
        {
          "output_type": "stream",
          "name": "stdout",
          "text": [
            "this is the vector:- [0.5, -1.2, 3.3, 4.5]\n",
            "this is the norm of vector:- 5.729746940310715\n"
          ]
        }
      ]
    },
    {
      "cell_type": "markdown",
      "source": [
        "##Ex3\n"
      ],
      "metadata": {
        "id": "53F38CL4gdvx"
      }
    },
    {
      "cell_type": "code",
      "source": [
        "#ex3\n",
        "\n",
        "def vector_maximum(vector):\n",
        "  #the function of the vector\n",
        "  largest = vector[0]\n",
        "\n",
        "  for i in vector:\n",
        "    if i>largest:\n",
        "      largest=i\n",
        "  print(\"this is the largest number:-\",largest)\n",
        "  return\n",
        "\n",
        "vector=[3 , 4 , 6  , 6 , 8 ]\n",
        "vector_maximum(vector)"
      ],
      "metadata": {
        "colab": {
          "base_uri": "https://localhost:8080/"
        },
        "id": "v_XL5xTv0NKx",
        "outputId": "1d98eeab-8def-43e1-97c8-96b20882d660"
      },
      "execution_count": null,
      "outputs": [
        {
          "output_type": "stream",
          "name": "stdout",
          "text": [
            "this is the largest number:- 8\n"
          ]
        }
      ]
    },
    {
      "cell_type": "markdown",
      "source": [
        "\n",
        "\n",
        "#BONUS EXCERCISE\n",
        "\n",
        "\n"
      ],
      "metadata": {
        "id": "hIpfN183goWA"
      }
    },
    {
      "cell_type": "code",
      "source": [],
      "metadata": {
        "id": "6UvbgPKQgXky"
      },
      "execution_count": null,
      "outputs": []
    },
    {
      "cell_type": "markdown",
      "source": [
        "##LAB ASSIGNMENT_1\n",
        "```\n",
        "`# This is formatted as code`\n",
        "```\n",
        "\n"
      ],
      "metadata": {
        "id": "Kl22XKxl2A9r"
      }
    },
    {
      "cell_type": "code",
      "source": [
        "#Q1->Given two lists—one containing keys and the other containing values. Create a dictionary by pairing corresponding elements from both lists.\n",
        "  # Define the lists\n",
        "keys = [\"name\", \"age\", \"country\"]\n",
        "values = [\"Alice\", 30, \"USA\"]\n",
        "\n",
        "# Create the dictionary using zip() and dict()\n",
        "dictionary = dict(zip(keys, values))\n",
        "\n",
        "# Print the resulting dictionary\n",
        "print(dictionary)"
      ],
      "metadata": {
        "colab": {
          "base_uri": "https://localhost:8080/"
        },
        "id": "7Dkkv6rv2AcO",
        "outputId": "09d934bb-c82e-4d53-bbcc-2582711c61e3"
      },
      "execution_count": null,
      "outputs": [
        {
          "output_type": "stream",
          "name": "stdout",
          "text": [
            "{'name': 'Alice', 'age': 30, 'country': 'USA'}\n"
          ]
        }
      ]
    },
    {
      "cell_type": "code",
      "source": [
        "##Q2->Write a program that compares two numbers and prints whether they are equal, not equal, greater than, or less than each other.\n",
        "\n",
        "# Function to compare two numbers\n",
        "def compareNumbers(a, b):\n",
        "    if a == b:\n",
        "        print(f\"{a} is equal to {b}\")\n",
        "    elif a > b:\n",
        "        print(f\"{a} is greater than {b}\")\n",
        "    else:\n",
        "        print(f\"{a} is less than {b}\")\n",
        "\n",
        "# User input\n",
        "num1 = float(input(\"Enter the first number: \"))\n",
        "num2 = float(input(\"Enter the second number: \"))\n",
        "\n",
        "# Compare the numbers\n",
        "compareNumbers(num1, num2)"
      ],
      "metadata": {
        "colab": {
          "base_uri": "https://localhost:8080/"
        },
        "id": "_cteduz8_cMb",
        "outputId": "5cdb6ed7-6cf7-4e5f-af21-958588952223"
      },
      "execution_count": null,
      "outputs": [
        {
          "output_type": "stream",
          "name": "stdout",
          "text": [
            "Enter the first number: 24\n",
            "Enter the second number: 24\n",
            "24.0 is equal to 24.0\n"
          ]
        }
      ]
    },
    {
      "cell_type": "code",
      "source": [
        "##Q3->Create a list of length 10 of your choice containing multiple types of data. Using for loop print the element and its data type.\n",
        "\n",
        "my_list = [42, \"hello\", 3.14, True, None, [1, 2, 3], {'key': 'value'}, (7, 8), {9, 10}, b\"bytes\"]\n",
        "\n",
        "for element in my_list:\n",
        "    print(f\"Element: {element}, Type: {type(element)}\")"
      ],
      "metadata": {
        "colab": {
          "base_uri": "https://localhost:8080/"
        },
        "id": "91gk04Em_wug",
        "outputId": "048216f0-647c-4f39-a4c2-51c489ef0000"
      },
      "execution_count": null,
      "outputs": [
        {
          "output_type": "stream",
          "name": "stdout",
          "text": [
            "Element: 42, Type: <class 'int'>\n",
            "Element: hello, Type: <class 'str'>\n",
            "Element: 3.14, Type: <class 'float'>\n",
            "Element: True, Type: <class 'bool'>\n",
            "Element: None, Type: <class 'NoneType'>\n",
            "Element: [1, 2, 3], Type: <class 'list'>\n",
            "Element: {'key': 'value'}, Type: <class 'dict'>\n",
            "Element: (7, 8), Type: <class 'tuple'>\n",
            "Element: {9, 10}, Type: <class 'set'>\n",
            "Element: b'bytes', Type: <class 'bytes'>\n"
          ]
        }
      ]
    },
    {
      "cell_type": "code",
      "source": [
        "##Q4->Using a while loop, verify if the number A is purely divisible by number B and if so then how many times it can be divisible.\n",
        "\n",
        "def countDivisibility(A, B):\n",
        "    count = 0\n",
        "    while A % B == 0:\n",
        "        A = A // B\n",
        "        count += 1\n",
        "    return count\n",
        "\n",
        "# User input\n",
        "A = int(input(\"Enter the value for A: \"))\n",
        "B = int(input(\"Enter the value for B: \"))\n",
        "\n",
        "if B == 0:\n",
        "    print(\"Division by zero is not allowed.\")\n",
        "else:\n",
        "    count = countDivisibility(A, B)\n",
        "    if count > 0:\n",
        "        print(f\"{A * (B ** count)} is divisible by {B} {count} times.\")\n",
        "    else:\n",
        "        print(f\"{A} is not divisible by {B}.\")"
      ],
      "metadata": {
        "colab": {
          "base_uri": "https://localhost:8080/"
        },
        "id": "3AuM7Uw8_9jV",
        "outputId": "a73816fc-f518-4632-ac10-8b7c12b02319"
      },
      "execution_count": null,
      "outputs": [
        {
          "output_type": "stream",
          "name": "stdout",
          "text": [
            "Enter the value for A: 24\n",
            "Enter the value for B: 35\n",
            "24 is not divisible by 35.\n"
          ]
        }
      ]
    },
    {
      "cell_type": "code",
      "source": [
        "##Q5->Create a list containing 25 integer type data. Using for loop and if-else condition print if the element is divisible by 3 or not.\n",
        "# List containing 25 integer type data\n",
        "my_list = [5, 9, 15, 20, 33, 42, 17, 50, 27, 14, 12, 24, 55, 61, 63, 75, 81, 90, 99, 100, 111, 120, 125, 150, 180]\n",
        "\n",
        "# Using a for loop to check if each element is divisible by 3\n",
        "for number in my_list:\n",
        "    if number % 3 == 0:\n",
        "        print(f\"{number} is divisible by 3.\")\n",
        "    else:\n",
        "        print(f\"{number} is not divisible by 3.\")"
      ],
      "metadata": {
        "colab": {
          "base_uri": "https://localhost:8080/"
        },
        "id": "aElaCGTFAI6D",
        "outputId": "ca8c50e2-fe37-495b-ff18-d4de56a9481b"
      },
      "execution_count": null,
      "outputs": [
        {
          "output_type": "stream",
          "name": "stdout",
          "text": [
            "5 is not divisible by 3.\n",
            "9 is divisible by 3.\n",
            "15 is divisible by 3.\n",
            "20 is not divisible by 3.\n",
            "33 is divisible by 3.\n",
            "42 is divisible by 3.\n",
            "17 is not divisible by 3.\n",
            "50 is not divisible by 3.\n",
            "27 is divisible by 3.\n",
            "14 is not divisible by 3.\n",
            "12 is divisible by 3.\n",
            "24 is divisible by 3.\n",
            "55 is not divisible by 3.\n",
            "61 is not divisible by 3.\n",
            "63 is divisible by 3.\n",
            "75 is divisible by 3.\n",
            "81 is divisible by 3.\n",
            "90 is divisible by 3.\n",
            "99 is divisible by 3.\n",
            "100 is not divisible by 3.\n",
            "111 is divisible by 3.\n",
            "120 is divisible by 3.\n",
            "125 is not divisible by 3.\n",
            "150 is divisible by 3.\n",
            "180 is divisible by 3.\n"
          ]
        }
      ]
    },
    {
      "cell_type": "code",
      "source": [
        "##Q6->Given a list my list = [1, 2, 3, 4, 5], write the code to slice the list and obtain the sub-list [2, 3].\n",
        "# Given list\n",
        "my_list = [1, 2, 3, 4, 5]\n",
        "\n",
        "sub_list = my_list[1:3]\n",
        "\n",
        "# Output the sub-list\n",
        "print(sub_list)"
      ],
      "metadata": {
        "colab": {
          "base_uri": "https://localhost:8080/"
        },
        "id": "J8OHlWhbAkY7",
        "outputId": "a143a425-df1d-42eb-b7ea-ccdedd7deeeb"
      },
      "execution_count": null,
      "outputs": [
        {
          "output_type": "stream",
          "name": "stdout",
          "text": [
            "[2, 3]\n"
          ]
        }
      ]
    },
    {
      "cell_type": "code",
      "source": [
        "##Q7->iven the string \"Hello, World!\", extract the sub-string \"World\".\n",
        "# Given string\n",
        "my_string = \"Hello, World!\"\n",
        "\n",
        "# Extracting the sub-string \"World\"\n",
        "sub_string = my_string[7:12]\n",
        "\n",
        "# Output the sub-string\n",
        "print(sub_string)"
      ],
      "metadata": {
        "colab": {
          "base_uri": "https://localhost:8080/"
        },
        "id": "JCr1k9_iA21E",
        "outputId": "fea93c9d-8b20-435d-f40f-7d4a44ee84fb"
      },
      "execution_count": null,
      "outputs": [
        {
          "output_type": "stream",
          "name": "stdout",
          "text": [
            "World\n"
          ]
        }
      ]
    },
    {
      "cell_type": "code",
      "source": [
        "##Q8->Calculatethemultiplicationandsumoftwonumbers:Giventwointeger numbers, return their product only if the product is equal to or lower than 1000. Otherwise, return their sum\n",
        "# Function to calculate the multiplication and sum of two numbers\n",
        "def calculate(a, b):\n",
        "    product = a * b\n",
        "    if product <= 1000:\n",
        "        return product\n",
        "    else:\n",
        "        return a + b\n",
        "\n",
        "# User input\n",
        "num1 = int(input(\"Enter the first number: \"))\n",
        "num2 = int(input(\"Enter the second number: \"))\n",
        "\n",
        "# Calculate and print the result\n",
        "result = calculate(num1, num2)\n",
        "print(\"The result is:\", result)"
      ],
      "metadata": {
        "colab": {
          "base_uri": "https://localhost:8080/"
        },
        "id": "5xuvMS-xA_9J",
        "outputId": "dc5f8689-335f-4e87-e177-b1578008b991"
      },
      "execution_count": null,
      "outputs": [
        {
          "output_type": "stream",
          "name": "stdout",
          "text": [
            "Enter the first number: 100\n",
            "Enter the second number: 20\n",
            "The result is: 120\n"
          ]
        }
      ]
    },
    {
      "cell_type": "code",
      "source": [
        "##Q9->Write a program to iterate through the first 10 numbers, and in each Print characters from a string that are present at an even index number. Accept a string from the user and display characters that are present at an even index number.\n",
        "# Function to print characters at even index positions\n",
        "def print_even_index_chars(input_string):\n",
        "    print(\"Characters at even index positions are:\")\n",
        "    even_chars = [input_string[i] for i in range(0, len(input_string), 2)]\n",
        "    print(''.join(even_chars))\n",
        "\n",
        "# Accept a string from the user\n",
        "user_string = input(\"Enter a string: \")\n",
        "\n",
        "# Iterate through the first 10 numbers\n",
        "for num in range(1, 11):\n",
        "    print(f\"\\nIteration {num}:\")\n",
        "    print_even_index_chars(user_string)"
      ],
      "metadata": {
        "colab": {
          "base_uri": "https://localhost:8080/"
        },
        "id": "hpr7a-Z-BtRq",
        "outputId": "dd8bd626-1788-4e5f-cb38-451abfa5983e"
      },
      "execution_count": null,
      "outputs": [
        {
          "output_type": "stream",
          "name": "stdout",
          "text": [
            "Enter a string: there a ghost\n",
            "\n",
            "Iteration 1:\n",
            "Characters at even index positions are:\n",
            "teeagot\n",
            "\n",
            "Iteration 2:\n",
            "Characters at even index positions are:\n",
            "teeagot\n",
            "\n",
            "Iteration 3:\n",
            "Characters at even index positions are:\n",
            "teeagot\n",
            "\n",
            "Iteration 4:\n",
            "Characters at even index positions are:\n",
            "teeagot\n",
            "\n",
            "Iteration 5:\n",
            "Characters at even index positions are:\n",
            "teeagot\n",
            "\n",
            "Iteration 6:\n",
            "Characters at even index positions are:\n",
            "teeagot\n",
            "\n",
            "Iteration 7:\n",
            "Characters at even index positions are:\n",
            "teeagot\n",
            "\n",
            "Iteration 8:\n",
            "Characters at even index positions are:\n",
            "teeagot\n",
            "\n",
            "Iteration 9:\n",
            "Characters at even index positions are:\n",
            "teeagot\n",
            "\n",
            "Iteration 10:\n",
            "Characters at even index positions are:\n",
            "teeagot\n"
          ]
        }
      ]
    },
    {
      "cell_type": "code",
      "source": [
        "## 10. Write a program to iterate through the list and find the even number & its count.\n",
        "numbers = [1, 2, 4, 5, 6, 8]\n",
        "count = 0\n",
        "\n",
        "for num in numbers:\n",
        "    if num % 2 == 0:\n",
        "        count += 1\n",
        "        print(f\"Even number: {num}\")\n",
        "\n",
        "# Print the count of even numbers\n",
        "print(f\"Total count of even numbers: {count}\")\n",
        "\n",
        "print(\"The list is\", numbers)"
      ],
      "metadata": {
        "colab": {
          "base_uri": "https://localhost:8080/"
        },
        "id": "NbeqH_BZ0VAj",
        "outputId": "3b013519-bbc8-41cc-e02e-ae92e68834c6"
      },
      "execution_count": null,
      "outputs": [
        {
          "output_type": "stream",
          "name": "stdout",
          "text": [
            "Even number: 2\n",
            "Even number: 4\n",
            "Even number: 6\n",
            "Even number: 8\n",
            "Total count of even numbers: 4\n",
            "The list is [1, 2, 4, 5, 6, 8]\n"
          ]
        }
      ]
    },
    {
      "cell_type": "code",
      "source": [
        "##Q11. Write a program to find the minimum value of a list of numbers 5,3,8,-1,2.2,0 (Don’t use built in function).\n",
        "numbers = [5, 3, 8, -1, 2.2, 0]\n",
        "minimum = numbers[0]\n",
        "\n",
        "for num in numbers:\n",
        "    if num < minimum:\n",
        "        minimum = num\n",
        "\n",
        "print(\"The minimum value is:\", minimum)\n",
        "\n"
      ],
      "metadata": {
        "colab": {
          "base_uri": "https://localhost:8080/"
        },
        "id": "mhS7Jawb5EdW",
        "outputId": "0f9833e0-0eeb-4dc6-cd7d-36023642c489"
      },
      "execution_count": null,
      "outputs": [
        {
          "output_type": "stream",
          "name": "stdout",
          "text": [
            "The minimum value is: -1\n"
          ]
        }
      ]
    },
    {
      "cell_type": "code",
      "source": [
        "##Q12. Write a programme to iterate over a list of strings and check whether a particular word is in or not?\n",
        "\n",
        "string_list = [\"apple\", \"banana split\", \"cherry tart\", \"apple crumble\"]\n",
        "check = \"apple\"\n",
        "\n",
        "# Flag to indicate if the word was found\n",
        "found = False\n",
        "\n",
        "for string in string_list:\n",
        "    if check in string:\n",
        "        print(f\"The word 'check' is found in: '{string}'\")\n",
        "        found = True\n",
        "if not found:\n",
        "    print(f\"The word 'check' was not found in any string.\")\n",
        "\n"
      ],
      "metadata": {
        "colab": {
          "base_uri": "https://localhost:8080/"
        },
        "id": "PZ98UJoK5Sba",
        "outputId": "48339c63-15b1-42ae-8a79-d58f41c3e088"
      },
      "execution_count": null,
      "outputs": [
        {
          "output_type": "stream",
          "name": "stdout",
          "text": [
            "The word 'check' is found in: 'apple'\n",
            "The word 'check' is found in: 'apple crumble'\n"
          ]
        }
      ]
    },
    {
      "cell_type": "code",
      "source": [
        "##Q13->Write a programme that uses a while loop to test whether user input a password \"Secret\" other wise print \" Your password is incorrect\".\n",
        "\n",
        "while True:\n",
        "    password =input('Enter the password :')\n",
        "    if password == 'Secret':\n",
        "        print('your password is correct')\n",
        "        break\n",
        "    else:\n",
        "      print('password is wrong')\n",
        "      break"
      ],
      "metadata": {
        "colab": {
          "base_uri": "https://localhost:8080/"
        },
        "id": "ApvAXUv37uuA",
        "outputId": "a483e45c-8d07-4d77-8b52-ec651e54e7ff"
      },
      "execution_count": null,
      "outputs": [
        {
          "output_type": "stream",
          "name": "stdout",
          "text": [
            "Enter the password :new\n",
            "password is wrong\n"
          ]
        }
      ]
    },
    {
      "cell_type": "code",
      "source": [
        "##Q14-> Write a program to show\n",
        "##(a) Exit a loop using break\n",
        "##(b) Exit a loop using Continue\n",
        "\n",
        "##(a)\n",
        "while True:\n",
        "    password =input('Enter the password :')\n",
        "    if password == 'Secret':\n",
        "        print('your password is correct')\n",
        "        break\n",
        "    else:\n",
        "      print('password is wrong')\n",
        "      break\n",
        "\n",
        "\n",
        "##(b)\n",
        "for num in range(1, 11):\n",
        "    if num % 2 == 0:\n",
        "        continue\n",
        "    print(num)"
      ],
      "metadata": {
        "colab": {
          "base_uri": "https://localhost:8080/"
        },
        "id": "7mgKmI_j82sb",
        "outputId": "b4858db9-ffb0-4780-c4f0-b9217034e3ba"
      },
      "execution_count": null,
      "outputs": [
        {
          "output_type": "stream",
          "name": "stdout",
          "text": [
            "Enter the password :new\n",
            "password is wrong\n",
            "1\n",
            "3\n",
            "5\n",
            "7\n",
            "9\n"
          ]
        }
      ]
    },
    {
      "cell_type": "code",
      "source": [
        "##Q15->Write a programme that asks the user for number (int) . It computes the average of a number & allows the user to enter-1 to quit\n",
        "\n",
        "total = 0\n",
        "count = 0\n",
        "\n",
        "while True:\n",
        "    number = int(input(\"Enter a number (or enter -1 to quit): \"))\n",
        "\n",
        "    if number == -1:\n",
        "        break\n",
        "\n",
        "    total += number\n",
        "    count += 1\n",
        "\n",
        "if count > 0:\n",
        "    average = total / count\n",
        "    print(f\"The average of the entered numbers is: {average}\")\n",
        "else:\n",
        "    print(\"No numbers were entered.\")\n",
        "\n"
      ],
      "metadata": {
        "colab": {
          "base_uri": "https://localhost:8080/"
        },
        "id": "5_wLUX--9M_G",
        "outputId": "6b482210-c37a-4257-c5cc-674baa14d451"
      },
      "execution_count": null,
      "outputs": [
        {
          "output_type": "stream",
          "name": "stdout",
          "text": [
            "Enter a number (or enter -1 to quit): 4\n",
            "Enter a number (or enter -1 to quit): 5\n",
            "Enter a number (or enter -1 to quit): -1\n",
            "The average of the entered numbers is: 4.5\n"
          ]
        }
      ]
    },
    {
      "cell_type": "code",
      "source": [
        " ##Q16. Write a programme with function get_factor that takes an integer as a parameter and return a list of factors of that number.\n",
        "\n",
        " def get_factors(number):\n",
        "    factors = []\n",
        "    for i in range(1, number + 1):\n",
        "        if number % i == 0:\n",
        "            factors.append(i)\n",
        "    return factors\n",
        "\n",
        "num = 12\n",
        "factors_of_num = get_factors(num)\n",
        "print(f\"The factors of {num} are: {factors_of_num}\")"
      ],
      "metadata": {
        "colab": {
          "base_uri": "https://localhost:8080/"
        },
        "id": "UHxONgIaAAaa",
        "outputId": "a49f7d31-d622-4565-d8ec-292fe7151268"
      },
      "execution_count": null,
      "outputs": [
        {
          "output_type": "stream",
          "name": "stdout",
          "text": [
            "The factors of 12 are: [1, 2, 3, 4, 6, 12]\n"
          ]
        }
      ]
    },
    {
      "cell_type": "code",
      "source": [
        "##Q17. Write a program with a function unique_list that takes a list of numbers as a parameter and return a new list with the unique list.\n",
        "\n",
        "def unique_list(numbers):\n",
        "    unique_numbers = []\n",
        "    for num in numbers:\n",
        "        if num not in unique_numbers:\n",
        "            unique_numbers.append(num)\n",
        "    return unique_numbers\n",
        "\n",
        "numbers = [1, 2, 2, 3, 4, 4, 5, 6, 6]\n",
        "unique_numbers = unique_list(numbers)\n",
        "print(f\"The unique numbers in the list are: {unique_numbers}\")"
      ],
      "metadata": {
        "colab": {
          "base_uri": "https://localhost:8080/"
        },
        "id": "590Cn0FVBn6E",
        "outputId": "7d51ab5d-6353-4e01-8450-3df13a7bda62"
      },
      "execution_count": null,
      "outputs": [
        {
          "output_type": "stream",
          "name": "stdout",
          "text": [
            "The unique numbers in the list are: [1, 2, 3, 4, 5, 6]\n"
          ]
        }
      ]
    },
    {
      "cell_type": "code",
      "source": [],
      "metadata": {
        "id": "JnXu6fh1dbcM"
      },
      "execution_count": null,
      "outputs": []
    },
    {
      "cell_type": "code",
      "source": [
        "#BONUS EXCERCISE\n",
        "#bubble sort\n",
        "\n",
        "def bubble_sort(my_list)\n"
      ],
      "metadata": {
        "id": "g5BELmNc2EpU"
      },
      "execution_count": null,
      "outputs": []
    },
    {
      "cell_type": "code",
      "source": [
        "##Q18. Write a programme to create a dictionary of three students with their details like name,grades & attendance of 5 subjects in list. Then create another dictionary which is having roll no as keys and name of the students as values. Write another programme to get average of all the marks.\n",
        "\n",
        "# Dictionary of three students with their details\n",
        "students_details = {\n",
        "    1: {\"name\": \"Raju\", \"grades\": [85, 90, 78, 92, 88], \"attendance\": [True, True, True, False, True]},\n",
        "    2: {\"name\": \"Ramu\", \"grades\": [75, 80, 68, 82, 78], \"attendance\": [True, True, False, True, True]},\n",
        "    3: {\"name\": \"Ramesh\", \"grades\": [95, 92, 88, 96, 94], \"attendance\": [True, True, True, True, True]}\n",
        "}\n",
        "\n",
        "# Dictionary with roll numbers as keys and student names as values\n",
        "roll_no_to_name = {roll_no: details[\"name\"] for roll_no, details in students_details.items()}\n",
        "\n",
        "print(\"Roll Number to Name Mapping:\")\n",
        "print(roll_no_to_name)\n",
        "\n",
        "# average marks\n",
        "def calculate_average_marks(students):\n",
        "    average_marks = {}\n",
        "    for roll_no, details in students.items():\n",
        "        average_marks[roll_no] = sum(details[\"grades\"]) / len(details[\"grades\"])\n",
        "    return average_marks\n",
        "\n",
        "average_marks = calculate_average_marks(students_details)\n",
        "\n",
        "print(\"\\nAverage Marks of Each Student:\")\n",
        "for roll_no, avg in average_marks.items():\n",
        "    print(f\"Roll No {roll_no} ({roll_no_to_name[roll_no]}): {avg}\")\n",
        "\n"
      ],
      "metadata": {
        "colab": {
          "base_uri": "https://localhost:8080/"
        },
        "id": "gO1rbo3DCJay",
        "outputId": "514bd81e-0e33-4454-801c-908efe1cfc4f"
      },
      "execution_count": null,
      "outputs": [
        {
          "output_type": "stream",
          "name": "stdout",
          "text": [
            "Roll Number to Name Mapping:\n",
            "{1: 'Raju', 2: 'Ramu', 3: 'Ramesh'}\n",
            "\n",
            "Average Marks of Each Student:\n",
            "Roll No 1 (Raju): 86.6\n",
            "Roll No 2 (Ramu): 76.6\n",
            "Roll No 3 (Ramesh): 93.0\n"
          ]
        }
      ]
    },
    {
      "cell_type": "markdown",
      "source": [
        "## Assignment 2\n",
        "Searching and sorting algorithm using python\n"
      ],
      "metadata": {
        "id": "g7AsO5u2dfce"
      }
    },
    {
      "cell_type": "code",
      "source": [
        "#Linear Searching\n",
        "# Linear Search\n",
        "arr = []\n",
        "for i in range(5):\n",
        "    m = int(input(f\"Enter {i+1} element: \"))\n",
        "    arr.append(m)\n",
        "\n",
        "print(\"Array is: \", arr)\n",
        "search_element = int(input(\"Enter searching element: \"))\n",
        "c = 0\n",
        "\n",
        "for n in arr:\n",
        "    if n == search_element:\n",
        "        c += 1\n",
        "        break\n",
        "\n",
        "if c > 0:\n",
        "    print(\"Searching element present\")\n",
        "else:\n",
        "    print(\"Searching element not present\")"
      ],
      "metadata": {
        "colab": {
          "base_uri": "https://localhost:8080/"
        },
        "id": "8bAQl3PCdelE",
        "outputId": "0c17247c-a0e4-4583-8de4-b0afd68df555"
      },
      "execution_count": null,
      "outputs": [
        {
          "output_type": "stream",
          "name": "stdout",
          "text": [
            "Enter 1 element: 1\n",
            "Enter 2 element: 2\n",
            "Enter 3 element: 4\n",
            "Enter 4 element: 5\n",
            "Enter 5 element: 7\n",
            "Array is:  [1, 2, 4, 5, 7]\n",
            "Enter searching element: 7\n",
            "Searching element present\n"
          ]
        }
      ]
    },
    {
      "cell_type": "code",
      "source": [
        "# Binary Search\n",
        "arr2 = []\n",
        "for i in range(10):\n",
        "    a = int(input(f\"Enter {i+1} element: \"))\n",
        "    arr2.append(a)\n",
        "\n",
        "arr2.sort()  # Make sure the array is sorted for binary search\n",
        "print(\"Array is: \", arr2)\n",
        "\n",
        "se = int(input(\"Enter searching element: \"))\n",
        "s = 0\n",
        "e = len(arr2) - 1\n",
        "c = 0\n",
        "\n",
        "while s <= e:\n",
        "    mid = (s + e) // 2\n",
        "    if se > arr2[mid]:\n",
        "        s = mid + 1\n",
        "    elif se == arr2[mid]:\n",
        "        c += 1\n",
        "        break\n",
        "    else:\n",
        "        e = mid - 1\n",
        "\n",
        "if c > 0:\n",
        "    print(\"Searching element present\")\n",
        "else:\n",
        "    print(\"Searching element not present\")\n",
        "4"
      ],
      "metadata": {
        "colab": {
          "base_uri": "https://localhost:8080/"
        },
        "id": "_i_-IgH8twk9",
        "outputId": "2574aeff-4df0-4c8e-eec7-cf1c8f981e54"
      },
      "execution_count": null,
      "outputs": [
        {
          "output_type": "stream",
          "name": "stdout",
          "text": [
            "Enter 1 element: 1\n",
            "Enter 2 element: 2\n",
            "Enter 3 element: 3\n",
            "Enter 4 element: 4\n",
            "Enter 5 element: 5\n",
            "Enter 6 element: 6\n",
            "Enter 7 element: 7\n",
            "Enter 8 element: 8\n",
            "Enter 9 element: 9\n",
            "Enter 10 element: 10\n",
            "Array is:  [1, 2, 3, 4, 5, 6, 7, 8, 9, 10]\n",
            "Enter searching element: 6\n",
            "Searching element present\n"
          ]
        },
        {
          "output_type": "execute_result",
          "data": {
            "text/plain": [
              "4"
            ]
          },
          "metadata": {},
          "execution_count": 6
        }
      ]
    },
    {
      "cell_type": "code",
      "source": [
        "# Bubble Sort\n",
        "arr1 = []\n",
        "for i in range(7):\n",
        "    n = int(input(f\"Enter {i+1} element: \"))\n",
        "    arr1.append(n)\n",
        "\n",
        "print(\"Array is: \", arr1)\n",
        "\n",
        "for i in range(len(arr1)):\n",
        "    for j in range(0, len(arr1) - i - 1):\n",
        "        if arr1[j] > arr1[j+1]:\n",
        "            arr1[j], arr1[j+1] = arr1[j+1], arr1[j]\n",
        "\n",
        "print(\"Sorted Array is: \", arr1)"
      ],
      "metadata": {
        "colab": {
          "base_uri": "https://localhost:8080/"
        },
        "id": "AIRH6ydKaGen",
        "outputId": "8adffacb-4767-48a1-c1a0-41d0a7bad67c"
      },
      "execution_count": null,
      "outputs": [
        {
          "output_type": "stream",
          "name": "stdout",
          "text": [
            "Enter 1 element: 2\n",
            "Enter 2 element: 1\n",
            "Enter 3 element: 4\n",
            "Enter 4 element: 6\n",
            "Enter 5 element: 3\n",
            "Enter 6 element: 7\n",
            "Enter 7 element: 3\n",
            "Array is:  [2, 1, 4, 6, 3, 7, 3]\n",
            "Sorted Array is:  [1, 2, 3, 3, 4, 6, 7]\n"
          ]
        }
      ]
    },
    {
      "cell_type": "code",
      "source": [
        "# Selection Sort\n",
        "def selection_sort(arr):\n",
        "    for i in range(len(arr)):\n",
        "        minimum = i\n",
        "        for j in range(i + 1, len(arr)):\n",
        "            if arr[j] < arr[minimum]:\n",
        "                minimum = j\n",
        "        arr[i], arr[minimum] = arr[minimum], arr[i]\n",
        "    return arr\n",
        "\n",
        "arr = []\n",
        "for i in range(5):\n",
        "    m = int(input(f\"Enter {i+1} element: \"))\n",
        "    arr.append(m)\n",
        "\n",
        "print(\"Array is: \", arr)\n",
        "sorted_arr = selection_sort(arr)\n",
        "print(f\"Sorted array is: {sorted_arr}\")\n",
        "\n"
      ],
      "metadata": {
        "colab": {
          "base_uri": "https://localhost:8080/"
        },
        "id": "gAwbkVGfdJ8w",
        "outputId": "27947e61-352b-4d70-8a62-bbef129d3082"
      },
      "execution_count": null,
      "outputs": [
        {
          "output_type": "stream",
          "name": "stdout",
          "text": [
            "Enter 1 element: 2\n",
            "Enter 2 element: 4\n",
            "Enter 3 element: 1\n",
            "Enter 4 element: 5\n",
            "Enter 5 element: 3\n",
            "Array is:  [2, 4, 1, 5, 3]\n",
            "Sorted array is: [1, 2, 3, 4, 5]\n"
          ]
        }
      ]
    },
    {
      "cell_type": "code",
      "source": [
        "# Insertion Sort\n",
        "def insertion_sort(arr):\n",
        "    for i in range(1, len(arr)):\n",
        "        key = arr[i]\n",
        "        j = i - 1\n",
        "        while j >= 0 and key < arr[j]:\n",
        "            arr[j + 1] = arr[j]\n",
        "            j -= 1\n",
        "        arr[j + 1] = key\n",
        "    return arr\n",
        "\n",
        "arr = []\n",
        "for i in range(5):\n",
        "    m = int(input(f\"Enter {i+1} element: \"))\n",
        "    arr.append(m)\n",
        "\n",
        "print(\"Array is: \", arr)\n",
        "sorted_arr = insertion_sort(arr)\n",
        "print(f\"Sorted array is: {sorted_arr}\")\n"
      ],
      "metadata": {
        "colab": {
          "base_uri": "https://localhost:8080/"
        },
        "id": "ARyhFH_6xa0E",
        "outputId": "500a2097-49b7-4353-f2fc-acfea7c5b2c1"
      },
      "execution_count": null,
      "outputs": [
        {
          "output_type": "stream",
          "name": "stdout",
          "text": [
            "Enter 1 element: 1\n",
            "Enter 2 element: 2\n",
            "Enter 3 element: 3\n",
            "Enter 4 element: 4\n",
            "Enter 5 element: 6\n",
            "Array is:  [1, 2, 3, 4, 6]\n",
            "Sorted array is: [1, 2, 3, 4, 6]\n"
          ]
        }
      ]
    },
    {
      "cell_type": "code",
      "source": [
        "# Merge Sort\n",
        "def merge_sort(arr):\n",
        "    if len(arr) > 1:\n",
        "        mid = len(arr) // 2\n",
        "        lh = arr[:mid]\n",
        "        rh = arr[mid:]\n",
        "\n",
        "        merge_sort(lh)\n",
        "        merge_sort(rh)\n",
        "\n",
        "        i = j = k = 0\n",
        "        while i < len(lh) and j < len(rh):\n",
        "            if lh[i] < rh[j]:\n",
        "                arr[k] = lh[i]\n",
        "                i += 1\n",
        "            else:\n",
        "                arr[k] = rh[j]\n",
        "                j += 1\n",
        "            k += 1\n",
        "\n",
        "        while i < len(lh):\n",
        "            arr[k] = lh[i]\n",
        "            i += 1\n",
        "            k += 1\n",
        "\n",
        "        while j < len(rh):\n",
        "            arr[k] = rh[j]\n",
        "            j += 1\n",
        "            k += 1\n",
        "\n",
        "    return arr\n",
        "\n",
        "arr = []\n",
        "for i in range(5):\n",
        "    m = int(input(f\"Enter {i+1} element: \"))\n",
        "    arr.append(m)\n",
        "\n",
        "print(\"Array is: \", arr)\n",
        "sorted_arr = merge_sort(arr)\n",
        "print(f\"Sorted array is: {sorted_arr}\")\n"
      ],
      "metadata": {
        "colab": {
          "base_uri": "https://localhost:8080/"
        },
        "id": "lKdPgkmix1h8",
        "outputId": "346e8690-66b4-416c-f6a8-dec1a1c341fa"
      },
      "execution_count": null,
      "outputs": [
        {
          "output_type": "stream",
          "name": "stdout",
          "text": [
            "Enter 1 element: 1\n",
            "Enter 2 element: 3\n",
            "Enter 3 element: 4\n",
            "Enter 4 element: 6\n",
            "Enter 5 element: 7\n",
            "Array is:  [1, 3, 4, 6, 7]\n",
            "Sorted array is: [1, 3, 4, 6, 7]\n"
          ]
        }
      ]
    },
    {
      "cell_type": "code",
      "source": [
        "# Quick Sort\n",
        "def partition(arr, low, high):\n",
        "    pivot = arr[high]\n",
        "    i = low - 1\n",
        "    for j in range(low, high):\n",
        "        if arr[j] <= pivot:\n",
        "            i += 1\n",
        "            arr[i], arr[j] = arr[j], arr[i]\n",
        "    arr[i + 1], arr[high] = arr[high], arr[i + 1]\n",
        "    return i + 1\n",
        "\n",
        "def quick_sort(arr, low, high):\n",
        "    if low < high:\n",
        "        pi = partition(arr, low, high)\n",
        "        quick_sort(arr, low, pi - 1)\n",
        "        quick_sort(arr, pi + 1, high)\n",
        "\n",
        "arr = []\n",
        "for i in range(5):\n",
        "    m = int(input(f\"Enter {i+1} element: \"))\n",
        "    arr.append(m)\n",
        "\n",
        "print(\"Array is: \", arr)\n",
        "n = len(arr)\n",
        "quick_sort(arr, 0, n - 1)\n",
        "print(f\"Sorted array is: {arr}\")\n"
      ],
      "metadata": {
        "colab": {
          "base_uri": "https://localhost:8080/"
        },
        "id": "qPGgv5yMyGrR",
        "outputId": "620ad2fb-bff2-4b9e-cae4-e9d6bb5e596d"
      },
      "execution_count": null,
      "outputs": [
        {
          "output_type": "stream",
          "name": "stdout",
          "text": [
            "Enter 1 element: 1\n",
            "Enter 2 element: 2\n",
            "Enter 3 element: 6\n",
            "Enter 4 element: 2\n",
            "Enter 5 element: 3\n",
            "Array is:  [1, 2, 6, 2, 3]\n",
            "Sorted array is: [1, 2, 2, 3, 6]\n"
          ]
        }
      ]
    },
    {
      "cell_type": "markdown",
      "source": [
        "# Assignment3"
      ],
      "metadata": {
        "id": "oQ4BbWQF2cLH"
      }
    },
    {
      "cell_type": "markdown",
      "source": [
        "##Q1"
      ],
      "metadata": {
        "id": "cFzcyNulAWZZ"
      }
    },
    {
      "cell_type": "code",
      "source": [
        "##Write a python program to implement different arithmetic operation such as\n",
        "#addition,subtraction,multiplication,division and exponent\n",
        "def add(a,b):\n",
        "    sum=a+b\n",
        "    return sum\n",
        "\n",
        "def sub(a,b):\n",
        "    sub=a-b\n",
        "    return sub\n",
        "\n",
        "def mul(a,b):\n",
        "    mul=a*b\n",
        "    return mul\n",
        "\n",
        "def div(a,b):\n",
        "    div=a/b\n",
        "    return div\n",
        "\n",
        "def exp(a,b):\n",
        "    exp=a^b\n",
        "    return exp\n",
        "print(\"the sum is: \",add(4,5))\n",
        "print(\"the difference :\",sub(4,5))\n",
        "print(\"the multiplication is:\",mul(4,5))\n"
      ],
      "metadata": {
        "colab": {
          "base_uri": "https://localhost:8080/"
        },
        "id": "_o1aMvRD2YeA",
        "outputId": "712f6170-c4b0-4182-fd91-230fa2d50c97"
      },
      "execution_count": null,
      "outputs": [
        {
          "output_type": "stream",
          "name": "stdout",
          "text": [
            "the sum is:  9\n",
            "the difference : -1\n",
            "the multiplication is: 20\n"
          ]
        }
      ]
    },
    {
      "cell_type": "markdown",
      "source": [
        "##Q2"
      ],
      "metadata": {
        "id": "wxxRsUufAQAM"
      }
    },
    {
      "cell_type": "code",
      "source": [
        "##Write a python program to implement the Boolean logic function( AND,OR,NOT etc)\n",
        "# Boolean logic functions\n",
        "\n",
        "def AND(a, b):\n",
        "    return a and b\n",
        "\n",
        "def OR(a, b):\n",
        "    return a or b\n",
        "\n",
        "def NOT(a):\n",
        "    return not a\n",
        "\n",
        "def XOR(a, b):\n",
        "    return a ^ b  # XOR operator in Python\n",
        "\n",
        "def NAND(a, b):\n",
        "    return not (a and b)\n",
        "\n",
        "# Test cases\n",
        "a = True\n",
        "b = False\n",
        "\n",
        "# Display results\n",
        "print(f\"AND({a}, {b}) = {AND(a, b)}\")\n",
        "print(f\"OR({a}, {b}) = {OR(a, b)}\")\n",
        "print(f\"NOT({a}) = {NOT(a)}\")\n",
        "print(f\"XOR({a}, {b}) = {XOR(a, b)}\")\n",
        "print(f\"NAND({a}, {b}) = {NAND(a, b)}\")"
      ],
      "metadata": {
        "colab": {
          "base_uri": "https://localhost:8080/"
        },
        "id": "9xzlGRvc4seY",
        "outputId": "eb384934-9bca-4f87-ed2a-bd86c241d553"
      },
      "execution_count": null,
      "outputs": [
        {
          "output_type": "stream",
          "name": "stdout",
          "text": [
            "AND(True, False) = False\n",
            "OR(True, False) = True\n",
            "NOT(True) = False\n",
            "XOR(True, False) = True\n",
            "NAND(True, False) = True\n"
          ]
        }
      ]
    },
    {
      "cell_type": "markdown",
      "source": [
        "## Q3"
      ],
      "metadata": {
        "id": "qKgjIr59ALHL"
      }
    },
    {
      "cell_type": "code",
      "source": [
        "##3. Write a python code to perform certain operation on the string such as print a string,\n",
        "## concatenation of two string, Capitalize a string, convert a string to uppercase,\n",
        "##accessing substring from a given string\n",
        "\n",
        "# Function to perform various string operations\n",
        "def string_operations():\n",
        "    # 1. Print a string\n",
        "    my_string = \"Hello, World!\"\n",
        "    print(\"Original String:\", my_string)\n",
        "\n",
        "    # 2. Concatenation of two strings\n",
        "    string1 = \"Hello\"\n",
        "    string2 = \"Python\"\n",
        "    concatenated_string = string1 + \" \" + string2\n",
        "    print(\"Concatenated String:\", concatenated_string)\n",
        "\n",
        "    # 3. Capitalize a string\n",
        "    capitalized_string = my_string.capitalize()  # Capitalizes only the first character\n",
        "    print(\"Capitalized String:\", capitalized_string)\n",
        "\n",
        "    # 4. Convert a string to uppercase\n",
        "    uppercase_string = my_string.upper()\n",
        "    print(\"Uppercase String:\", uppercase_string)\n",
        "\n",
        "    # 5. Access a substring from a given string\n",
        "    substring = my_string[7:12]  # Accessing characters from index 7 to 11\n",
        "    print(\"Substring from the string:\", substring)\n",
        "\n",
        "# Call the function\n",
        "string_operations()\n"
      ],
      "metadata": {
        "colab": {
          "base_uri": "https://localhost:8080/"
        },
        "id": "jo9r0CzP6q3n",
        "outputId": "f84fc961-8977-49a5-9374-4bb53d3030b2"
      },
      "execution_count": null,
      "outputs": [
        {
          "output_type": "stream",
          "name": "stdout",
          "text": [
            "Original String: Hello, World!\n",
            "Concatenated String: Hello Python\n",
            "Capitalized String: Hello, world!\n",
            "Uppercase String: HELLO, WORLD!\n",
            "Substring from the string: World\n"
          ]
        }
      ]
    },
    {
      "cell_type": "markdown",
      "source": [
        "##Q4"
      ],
      "metadata": {
        "id": "84FuAlqIDehY"
      }
    },
    {
      "cell_type": "code",
      "source": [
        "##Write a python code to create a list with different data types, access elements of lists, slicing,\n",
        "## append ,remove elements from the list and find length of the list.\n",
        "\n",
        "# Create a list with different data types\n",
        "my_list = [25, \"Hello\", 3.14, True, [1, 2, 3]]\n",
        "\n",
        "# Access elements from the list\n",
        "print(\"Accessing individual elements:\")\n",
        "print(\"Element at index 0:\", my_list[0])  # First element\n",
        "print(\"Element at index 1:\", my_list[1])  # Second element\n",
        "print(\"Element at index 4:\", my_list[4])  # Fifth element (which is a list itself)\n",
        "\n",
        "# Slicing the list\n",
        "print(\"\\nSlicing the list:\")\n",
        "print(\"First three elements:\", my_list[:3])  # Slice first 3 elements\n",
        "print(\"Last two elements:\", my_list[-2:])  # Slice last 2 elements\n",
        "\n",
        "# Append a new element to the list\n",
        "my_list.append(\"New Element\")\n",
        "print(\"\\nList after appending a new element:\")\n",
        "print(my_list)\n",
        "\n",
        "# Remove an element from the list\n",
        "my_list.remove(3.14)\n",
        "print(\"\\nList after removing the element '3.14':\")\n",
        "print(my_list)\n",
        "\n",
        "# Find the length of the list\n",
        "list_length = len(my_list)\n",
        "print(\"\\nLength of the list:\", list_length)"
      ],
      "metadata": {
        "colab": {
          "base_uri": "https://localhost:8080/"
        },
        "id": "zbaW5gTVDgRU",
        "outputId": "6da167f5-62ca-4a6f-e590-f58e26a57ad1"
      },
      "execution_count": null,
      "outputs": [
        {
          "output_type": "stream",
          "name": "stdout",
          "text": [
            "Accessing individual elements:\n",
            "Element at index 0: 25\n",
            "Element at index 1: Hello\n",
            "Element at index 4: [1, 2, 3]\n",
            "\n",
            "Slicing the list:\n",
            "First three elements: [25, 'Hello', 3.14]\n",
            "Last two elements: [True, [1, 2, 3]]\n",
            "\n",
            "List after appending a new element:\n",
            "[25, 'Hello', 3.14, True, [1, 2, 3], 'New Element']\n",
            "\n",
            "List after removing the element '3.14':\n",
            "[25, 'Hello', True, [1, 2, 3], 'New Element']\n",
            "\n",
            "Length of the list: 5\n"
          ]
        }
      ]
    },
    {
      "cell_type": "markdown",
      "source": [
        "\n",
        "##Q5"
      ],
      "metadata": {
        "id": "xaDkDXLvCpvv"
      }
    },
    {
      "cell_type": "code",
      "source": [
        "##Write a python code to find sum of the array and the largest number in the the array\n",
        "# Function to find the sum of the array\n",
        "def array_sum(arr):\n",
        "    return sum(arr)\n",
        "\n",
        "# Function to find the largest number in the array\n",
        "def largest_number(arr):\n",
        "    return max(arr)\n",
        "\n",
        "# Main function\n",
        "def main():\n",
        "    # Input: array from the user\n",
        "    arr = list(map(int, input(\"Enter the elements of the array separated by space: \").split()))\n",
        "\n",
        "    # Find and print the sum of the array\n",
        "    total_sum = array_sum(arr)\n",
        "    print(\"Sum of the array:\", total_sum)\n",
        "\n",
        "    # Find and print the largest number in the array\n",
        "    largest = largest_number(arr)\n",
        "    print(\"Largest number in the array:\", largest)\n",
        "\n",
        "# Call the main function\n",
        "main()\n"
      ],
      "metadata": {
        "colab": {
          "base_uri": "https://localhost:8080/"
        },
        "id": "LpH6aJhICskS",
        "outputId": "565e58de-c50e-44c5-823e-ed6e07a4ade7"
      },
      "execution_count": null,
      "outputs": [
        {
          "output_type": "stream",
          "name": "stdout",
          "text": [
            "Enter the elements of the array separated by space: 2 3 4 5 6 \n",
            "Sum of the array: 20\n",
            "Largest number in the array: 6\n"
          ]
        }
      ]
    },
    {
      "cell_type": "markdown",
      "source": [
        "##Q6\n"
      ],
      "metadata": {
        "id": "eNmoxInM46a6"
      }
    },
    {
      "cell_type": "code",
      "source": [
        "import numpy as np\n",
        "\n",
        "# Define two matrices A and B\n",
        "A = np.array([[1, 2, 3], [4, 5, 6], [7, 8, 9]])\n",
        "B = np.array([[9, 8, 7], [6, 5, 4], [3, 2, 1]])\n",
        "\n",
        "# Add, subtract, multiply, and transpose each result in a single line\n",
        "add_result = np.transpose(A + B)\n",
        "subtract_result = np.transpose(A - B)\n",
        "multiply_result = np.transpose(A * B)  # Element-wise multiplication\n",
        "\n",
        "# Print the results\n",
        "print(\"Transpose of the Addition of matrices:\\n\", add_result)\n",
        "print(\"Transpose of the Subtraction of matrices:\\n\", subtract_result)\n",
        "print(\"Transpose of the Element-wise Multiplication of matrices:\\n\", multiply_result)"
      ],
      "metadata": {
        "colab": {
          "base_uri": "https://localhost:8080/"
        },
        "id": "DChk_VZr479s",
        "outputId": "6ccdd60d-ca1d-491a-aaac-524a3cca3c89"
      },
      "execution_count": null,
      "outputs": [
        {
          "output_type": "stream",
          "name": "stdout",
          "text": [
            "Transpose of the Addition of matrices:\n",
            " [[10 10 10]\n",
            " [10 10 10]\n",
            " [10 10 10]]\n",
            "Transpose of the Subtraction of matrices:\n",
            " [[-8 -2  4]\n",
            " [-6  0  6]\n",
            " [-4  2  8]]\n",
            "Transpose of the Element-wise Multiplication of matrices:\n",
            " [[ 9 24 21]\n",
            " [16 25 16]\n",
            " [21 24  9]]\n"
          ]
        }
      ]
    },
    {
      "cell_type": "markdown",
      "source": [
        "##Q7"
      ],
      "metadata": {
        "id": "S92ea1V79-j6"
      }
    },
    {
      "cell_type": "code",
      "source": [
        "# Creating a dictionary with different data types as values\n",
        "my_dict = {\n",
        "    \"name\": \"Alice\",          # String\n",
        "    \"age\": 25,                # Integer\n",
        "    \"is_student\": True,       # Boolean\n",
        "    \"marks\": [88, 92, 79],    # List\n",
        "    \"address\": {\"city\": \"NY\", \"zip\": 10001}  # Nested dictionary\n",
        "}\n",
        "\n",
        "# Accessing elements from the dictionary\n",
        "print(\"Name:\", my_dict[\"name\"])  # Accessing by key 'name'\n",
        "print(\"Age:\", my_dict[\"age\"])    # Accessing by key 'age'\n",
        "print(\"Is Student:\", my_dict[\"is_student\"])  # Accessing by key 'is_student'\n",
        "print(\"Marks:\", my_dict[\"marks\"])  # Accessing the list of marks\n",
        "print(\"City:\", my_dict[\"address\"][\"city\"])  # Accessing a nested dictionary\n",
        "\n",
        "# Adding elements to the dictionary\n",
        "my_dict[\"email\"] = \"alice@example.com\"  # Adding a new key-value pair\n",
        "print(\"\\nDictionary after adding email:\", my_dict)\n",
        "\n",
        "# Removing elements from the dictionary\n",
        "removed_element = my_dict.pop(\"is_student\")  # Removing key 'is_student'\n",
        "print(\"\\nRemoved element (is_student):\", removed_element)\n",
        "print(\"Dictionary after removing 'is_student':\", my_dict)\n",
        "\n",
        "# Removing another element using 'del'\n",
        "del my_dict[\"age\"]\n",
        "print(\"\\nDictionary after removing 'age':\", my_dict)"
      ],
      "metadata": {
        "colab": {
          "base_uri": "https://localhost:8080/"
        },
        "id": "rOacrvE5-W2M",
        "outputId": "f9b9e944-4562-4da1-8042-5df37fdd6e72"
      },
      "execution_count": null,
      "outputs": [
        {
          "output_type": "stream",
          "name": "stdout",
          "text": [
            "Name: Alice\n",
            "Age: 25\n",
            "Is Student: True\n",
            "Marks: [88, 92, 79]\n",
            "City: NY\n",
            "\n",
            "Dictionary after adding email: {'name': 'Alice', 'age': 25, 'is_student': True, 'marks': [88, 92, 79], 'address': {'city': 'NY', 'zip': 10001}, 'email': 'alice@example.com'}\n",
            "\n",
            "Removed element (is_student): True\n",
            "Dictionary after removing 'is_student': {'name': 'Alice', 'age': 25, 'marks': [88, 92, 79], 'address': {'city': 'NY', 'zip': 10001}, 'email': 'alice@example.com'}\n",
            "\n",
            "Dictionary after removing 'age': {'name': 'Alice', 'marks': [88, 92, 79], 'address': {'city': 'NY', 'zip': 10001}, 'email': 'alice@example.com'}\n"
          ]
        }
      ]
    },
    {
      "cell_type": "markdown",
      "source": [
        "##Q8\n"
      ],
      "metadata": {
        "id": "5pr86Fee_N4P"
      }
    },
    {
      "cell_type": "code",
      "source": [
        "def is_prime(num):\n",
        "    if num < 2:\n",
        "        return False\n",
        "    for i in range(2, int(num ** 0.5) + 1):\n",
        "        if num % i == 0:\n",
        "            return False\n",
        "    return True\n",
        "\n",
        "# Print prime numbers less than 20\n",
        "print(\"Prime numbers less than 20:\")\n",
        "for number in range(20):\n",
        "    if is_prime(number):\n",
        "        print(number, end=\" \")"
      ],
      "metadata": {
        "colab": {
          "base_uri": "https://localhost:8080/"
        },
        "id": "l3CIdmxf_PtE",
        "outputId": "cd6ac6f6-a614-49ba-b193-ce31e94eb90f"
      },
      "execution_count": null,
      "outputs": [
        {
          "output_type": "stream",
          "name": "stdout",
          "text": [
            "Prime numbers less than 20:\n",
            "2 3 5 7 11 13 17 19 "
          ]
        }
      ]
    },
    {
      "cell_type": "markdown",
      "source": [
        "##Q9"
      ],
      "metadata": {
        "id": "-LLkDxo6_URQ"
      }
    },
    {
      "cell_type": "code",
      "source": [
        "def factorial(n):\n",
        "    if n == 0 or n == 1:\n",
        "        return 1\n",
        "    else:\n",
        "        return n * factorial(n - 1)\n",
        "\n",
        "# Example usage\n",
        "num = 5\n",
        "print(f\"Factorial of {num} is {factorial(num)}\")"
      ],
      "metadata": {
        "colab": {
          "base_uri": "https://localhost:8080/"
        },
        "id": "4f_eb-Yb_Vsf",
        "outputId": "4c26e6b6-3d46-489b-ccb1-26ba8c31d038"
      },
      "execution_count": null,
      "outputs": [
        {
          "output_type": "stream",
          "name": "stdout",
          "text": [
            "Factorial of 5 is 120\n"
          ]
        }
      ]
    },
    {
      "cell_type": "markdown",
      "source": [
        "##Q10"
      ],
      "metadata": {
        "id": "aqrBHNrN_a5e"
      }
    },
    {
      "cell_type": "code",
      "source": [
        "# Creating a tuple\n",
        "my_tuple = (3, 1, 9, 7, 4, 6, 8)\n",
        "\n",
        "# Find maximum and minimum elements in the tuple\n",
        "max_element = max(my_tuple)\n",
        "min_element = min(my_tuple)\n",
        "\n",
        "# Find the size of the tuple\n",
        "tuple_size = len(my_tuple)\n",
        "\n",
        "# Display the results\n",
        "print(f\"Tuple: {my_tuple}\")\n",
        "print(f\"Maximum element in the tuple: {max_element}\")\n",
        "print(f\"Minimum element in the tuple: {min_element}\")\n",
        "print(f\"Size of the tuple: {tuple_size}\")"
      ],
      "metadata": {
        "colab": {
          "base_uri": "https://localhost:8080/"
        },
        "id": "4eBleJGP_cto",
        "outputId": "35720293-9fdb-4020-aed5-db259f9c16bc"
      },
      "execution_count": null,
      "outputs": [
        {
          "output_type": "stream",
          "name": "stdout",
          "text": [
            "Tuple: (3, 1, 9, 7, 4, 6, 8)\n",
            "Maximum element in the tuple: 9\n",
            "Minimum element in the tuple: 1\n",
            "Size of the tuple: 7\n"
          ]
        }
      ]
    },
    {
      "cell_type": "markdown",
      "source": [
        "##Q11"
      ],
      "metadata": {
        "id": "10_YqeyU_fy_"
      }
    },
    {
      "cell_type": "code",
      "source": [
        "from collections import deque\n",
        "\n",
        "def bfs(graph, start):\n",
        "    visited = set()\n",
        "    queue = deque([start])\n",
        "    visited.add(start)\n",
        "\n",
        "    while queue:\n",
        "        vertex = queue.popleft()\n",
        "        print(vertex, end=\" \")\n",
        "\n",
        "        for neighbor in graph[vertex]:\n",
        "            if neighbor not in visited:\n",
        "                visited.add(neighbor)\n",
        "                queue.append(neighbor)\n",
        "\n",
        "# Example graph as adjacency list\n",
        "graph = {\n",
        "    'A': ['B', 'C'],\n",
        "    'B': ['D', 'E'],\n",
        "    'C': ['F'],\n",
        "    'D': [],\n",
        "    'E': ['F'],\n",
        "    'F': []\n",
        "}\n",
        "\n",
        "# Perform BFS\n",
        "print(\"Breadth-First Search starting from vertex A:\")\n",
        "bfs(graph, 'A')"
      ],
      "metadata": {
        "colab": {
          "base_uri": "https://localhost:8080/"
        },
        "id": "YPyIRV5v_hAk",
        "outputId": "c23c1270-f657-4130-b969-0e2eb324d260"
      },
      "execution_count": null,
      "outputs": [
        {
          "output_type": "stream",
          "name": "stdout",
          "text": [
            "Breadth-First Search starting from vertex A:\n",
            "A B C D E F "
          ]
        }
      ]
    },
    {
      "cell_type": "markdown",
      "source": [
        "##Q12"
      ],
      "metadata": {
        "id": "rqc4TjEJ_kqZ"
      }
    },
    {
      "cell_type": "code",
      "source": [
        "def dfs(graph, start, visited=None):\n",
        "    if visited is None:\n",
        "        visited = set()\n",
        "    visited.add(start)\n",
        "\n",
        "    print(start, end=\" \")\n",
        "\n",
        "    for neighbor in graph[start]:\n",
        "        if neighbor not in visited:\n",
        "            dfs(graph, neighbor, visited)\n",
        "\n",
        "# Example graph as adjacency list\n",
        "graph = {\n",
        "    'A': ['B', 'C'],\n",
        "    'B': ['D', 'E'],\n",
        "    'C': ['F'],\n",
        "    'D': [],\n",
        "    'E': ['F'],\n",
        "    'F': []\n",
        "}\n",
        "\n",
        "# Perform DFS\n",
        "print(\"Depth-First Search starting from vertex A:\")\n",
        "dfs(graph, 'A')"
      ],
      "metadata": {
        "colab": {
          "base_uri": "https://localhost:8080/"
        },
        "id": "YFtF8E6O_l4K",
        "outputId": "c2517048-3d95-414f-a079-3ad586e88dde"
      },
      "execution_count": null,
      "outputs": [
        {
          "output_type": "stream",
          "name": "stdout",
          "text": [
            "Depth-First Search starting from vertex A:\n",
            "A B D E F C "
          ]
        }
      ]
    },
    {
      "cell_type": "markdown",
      "source": [
        "##Assignment 4"
      ],
      "metadata": {
        "id": "YJu6sHT9IMD1"
      }
    },
    {
      "cell_type": "code",
      "source": [
        "def is_safe(board, row, col, N):\n",
        "    # Check this row on the left side\n",
        "    for i in range(col):\n",
        "        if board[row][i] == 1:\n",
        "            return False\n",
        "\n",
        "    # Check the upper diagonal on the left side\n",
        "    for i, j in zip(range(row, -1, -1), range(col, -1, -1)):\n",
        "        if board[i][j] == 1:\n",
        "            return False\n",
        "\n",
        "    # Check the lower diagonal on the left side\n",
        "    for i, j in zip(range(row, N, 1), range(col, -1, -1)):\n",
        "        if board[i][j] == 1:\n",
        "            return False\n",
        "\n",
        "    return True\n",
        "\n",
        "\n",
        "def solve_n_queens_util(board, col, N):\n",
        "    # If all queens are placed\n",
        "    if col >= N:\n",
        "        return True\n",
        "\n",
        "    # Try placing queens in all rows one by one\n",
        "    for i in range(N):\n",
        "        if is_safe(board, i, col, N):\n",
        "            # Place this queen on board[i][col]\n",
        "            board[i][col] = 1\n",
        "\n",
        "            # Recursively place rest of the queens\n",
        "            if solve_n_queens_util(board, col + 1, N):\n",
        "                return True\n",
        "\n",
        "            # If placing queen in board[i][col] doesn't lead to a solution, backtrack\n",
        "            board[i][col] = 0  # Backtrack\n",
        "\n",
        "    # If queen cannot be placed in any row in this column col, return False\n",
        "    return False\n",
        "\n",
        "\n",
        "def solve_n_queens(N):\n",
        "    board = [[0] * N for _ in range(N)]  # Initialize N x N board\n",
        "\n",
        "    if not solve_n_queens_util(board, 0, N):\n",
        "        print(\"Solution does not exist\")\n",
        "        return False\n",
        "\n",
        "    print_board(board)\n",
        "    return True\n",
        "\n",
        "\n",
        "def print_board(board):\n",
        "    for row in board:\n",
        "        print(\" \".join('Q' if x == 1 else '.' for x in row))\n",
        "    print()\n",
        "\n",
        "\n",
        "# Test the solution\n",
        "N = 8  # You can change N to solve for different board sizes\n",
        "solve_n_queens(N)\n"
      ],
      "metadata": {
        "id": "DL-Gq7FaILWu",
        "colab": {
          "base_uri": "https://localhost:8080/"
        },
        "outputId": "86cac257-0e8c-49ab-9b13-0f83733d0d0a"
      },
      "execution_count": null,
      "outputs": [
        {
          "output_type": "stream",
          "name": "stdout",
          "text": [
            "Q . . . . . . .\n",
            ". . . . . . Q .\n",
            ". . . . Q . . .\n",
            ". . . . . . . Q\n",
            ". Q . . . . . .\n",
            ". . . Q . . . .\n",
            ". . . . . Q . .\n",
            ". . Q . . . . .\n",
            "\n"
          ]
        },
        {
          "output_type": "execute_result",
          "data": {
            "text/plain": [
              "True"
            ]
          },
          "metadata": {},
          "execution_count": 2
        }
      ]
    },
    {
      "cell_type": "markdown",
      "source": [
        "Ques2"
      ],
      "metadata": {
        "id": "wrThIsuKtWm1"
      }
    },
    {
      "cell_type": "code",
      "source": [
        "import heapq\n",
        "\n",
        "# A* Problem\n",
        "class Node:\n",
        "    def __init__(self, position, parent=None):\n",
        "        self.position = position\n",
        "        self.parent = parent\n",
        "        self.g = 0  # Cost from start to current node\n",
        "        self.h = 0  # Heuristic - estimated cost to goal\n",
        "        self.f = 0  # Total cost\n",
        "\n",
        "    def __lt__(self, other):\n",
        "        return self.f < other.f\n",
        "\n",
        "def astar(maze, start, end):\n",
        "    # Initialize both open and closed lists\n",
        "    open_list = []\n",
        "    closed_list = set()\n",
        "\n",
        "    start_node = Node(start)\n",
        "    end_node = Node(end)\n",
        "    heapq.heappush(open_list, start_node)\n",
        "\n",
        "    while open_list:\n",
        "        current_node = heapq.heappop(open_list)\n",
        "        closed_list.add(current_node.position)\n",
        "\n",
        "        if current_node.position == end_node.position:\n",
        "            path = []\n",
        "            while current_node:\n",
        "                path.append(current_node.position)\n",
        "                current_node = current_node.parent\n",
        "            return path[::-1]  # Return reversed path\n",
        "\n",
        "        neighbors = [(0, -1), (0, 1), (-1, 0), (1, 0)]  # Left, Right, Up, Down\n",
        "        for direction in neighbors:\n",
        "            neighbor_position = (current_node.position[0] + direction[0], current_node.position[1] + direction[1])\n",
        "\n",
        "            if neighbor_position[0] < 0 or neighbor_position[0] >= len(maze) or neighbor_position[1] < 0 or neighbor_position[1] >= len(maze[0]):\n",
        "                continue\n",
        "\n",
        "            if maze[neighbor_position[0]][neighbor_position[1]] == 1:\n",
        "                continue\n",
        "\n",
        "            neighbor = Node(neighbor_position, current_node)\n",
        "\n",
        "            if neighbor.position in closed_list:\n",
        "                continue\n",
        "\n",
        "            neighbor.g = current_node.g + 1\n",
        "            neighbor.h = abs(neighbor.position[0] - end_node.position[0]) + abs(neighbor.position[1] - end_node.position[1])\n",
        "            neighbor.f = neighbor.g + neighbor.h\n",
        "\n",
        "            if any(open_node for open_node in open_list if neighbor.position == open_node.position and neighbor.g > open_node.g):\n",
        "                continue\n",
        "\n",
        "            heapq.heappush(open_list, neighbor)\n",
        "\n",
        "    return None  # No path found\n",
        "\n",
        "# Example usage\n",
        "maze = [\n",
        "    [0, 1, 0, 0, 0],\n",
        "    [0, 1, 0, 1, 0],\n",
        "    [0, 0, 0, 1, 0],\n",
        "    [0, 1, 1, 1, 0],\n",
        "    [0, 0, 0, 0, 0]\n",
        "]\n",
        "\n",
        "start = (0, 0)\n",
        "end = (4, 4)\n",
        "\n",
        "path = astar(maze, start, end)\n",
        "if path:\n",
        "    print(\"Path found:\", path)\n",
        "else:\n",
        "    print(\"No path found\")\n"
      ],
      "metadata": {
        "colab": {
          "base_uri": "https://localhost:8080/"
        },
        "id": "VcVKfb1itY3P",
        "outputId": "dfc39329-f453-4caa-b25c-e342733999c6"
      },
      "execution_count": null,
      "outputs": [
        {
          "output_type": "stream",
          "name": "stdout",
          "text": [
            "Path found: [(0, 0), (1, 0), (2, 0), (3, 0), (4, 0), (4, 1), (4, 2), (4, 3), (4, 4)]\n"
          ]
        }
      ]
    },
    {
      "cell_type": "markdown",
      "source": [
        "ques3"
      ],
      "metadata": {
        "id": "Og0HV-k9vR0R"
      }
    },
    {
      "cell_type": "code",
      "source": [
        "import heapq\n",
        "\n",
        "# Uniform Cost Search (UCS)\n",
        "def ucs(graph, start, goal):\n",
        "    # Priority queue to store (cost, node, path)\n",
        "    priority_queue = [(0, start, [])]\n",
        "    visited = set()\n",
        "\n",
        "    while priority_queue:\n",
        "        (cost, node, path) = heapq.heappop(priority_queue)\n",
        "\n",
        "        if node in visited:\n",
        "            continue\n",
        "\n",
        "        # Add current node to the visited set\n",
        "        visited.add(node)\n",
        "        path = path + [node]\n",
        "\n",
        "        # Goal check\n",
        "        if node == goal:\n",
        "            return cost, path\n",
        "\n",
        "        # Explore neighbors\n",
        "        for neighbor, weight in graph.get(node, []):\n",
        "            if neighbor not in visited:\n",
        "                heapq.heappush(priority_queue, (cost + weight, neighbor, path))\n",
        "\n",
        "    return float(\"inf\"), []  # If no path is found\n",
        "\n",
        "# Example usage\n",
        "graph = {\n",
        "    'A': [('B', 1), ('C', 4)],\n",
        "    'B': [('D', 2), ('E', 5)],\n",
        "    'C': [('E', 1)],\n",
        "    'D': [('G', 3)],\n",
        "    'E': [('G', 2)],\n",
        "    'G': []\n",
        "}\n",
        "\n",
        "start = 'A'\n",
        "goal = 'G'\n",
        "cost, path = ucs(graph, start, goal)\n",
        "print(f\"Cost: {cost}, Path: {path}\")\n"
      ],
      "metadata": {
        "colab": {
          "base_uri": "https://localhost:8080/"
        },
        "id": "Ip6Da6L8vTe9",
        "outputId": "895f3342-2f0a-464b-8990-87cdb37c5785"
      },
      "execution_count": null,
      "outputs": [
        {
          "output_type": "stream",
          "name": "stdout",
          "text": [
            "Cost: 6, Path: ['A', 'B', 'D', 'G']\n"
          ]
        }
      ]
    },
    {
      "cell_type": "markdown",
      "source": [
        "q4"
      ],
      "metadata": {
        "id": "Nmja9pZP3o9G"
      }
    },
    {
      "cell_type": "code",
      "source": [
        "# Pancake Problem - Sorting using flips\n",
        "def flip(arr, i):\n",
        "    \"\"\"Flip function that reverses the array from 0 to i\"\"\"\n",
        "    return arr[:i+1][::-1] + arr[i+1:]\n",
        "\n",
        "def find_max_index(arr, n):\n",
        "    \"\"\"Find the index of the largest pancake in the array up to n\"\"\"\n",
        "    return max(range(n), key=arr.__getitem__)\n",
        "\n",
        "def pancake_sort(arr):\n",
        "    \"\"\"Sort the array using pancake flips\"\"\"\n",
        "    n = len(arr)\n",
        "    flips = []\n",
        "\n",
        "    for i in range(n, 1, -1):\n",
        "        max_index = find_max_index(arr, i)\n",
        "\n",
        "        if max_index != i - 1:\n",
        "            if max_index != 0:\n",
        "                arr = flip(arr, max_index)\n",
        "                flips.append(max_index + 1)\n",
        "\n",
        "            arr = flip(arr, i - 1)\n",
        "            flips.append(i)\n",
        "\n",
        "    return arr, flips\n",
        "\n",
        "# Example usage\n",
        "pancakes = [3, 6, 1, 9, 2, 5]\n",
        "sorted_pancakes, flips = pancake_sort(pancakes)\n",
        "\n",
        "print(f\"Sorted Pancakes: {sorted_pancakes}\")\n",
        "print(f\"Flips: {flips}\")\n"
      ],
      "metadata": {
        "id": "gzT4fu6r3qBO",
        "outputId": "0edd96eb-590b-4779-8348-06a4130e3edf",
        "colab": {
          "base_uri": "https://localhost:8080/"
        }
      },
      "execution_count": null,
      "outputs": [
        {
          "output_type": "stream",
          "name": "stdout",
          "text": [
            "Sorted Pancakes: [1, 2, 3, 5, 6, 9]\n",
            "Flips: [4, 6, 4, 5, 2, 4, 3]\n"
          ]
        }
      ]
    }
  ]
}